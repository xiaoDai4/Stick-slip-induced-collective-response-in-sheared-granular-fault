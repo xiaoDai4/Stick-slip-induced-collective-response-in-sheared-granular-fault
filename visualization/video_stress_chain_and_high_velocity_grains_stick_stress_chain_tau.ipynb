{
 "cells": [
  {
   "cell_type": "code",
   "execution_count": 2,
   "id": "89397160",
   "metadata": {},
   "outputs": [],
   "source": [
    "#  import package and data, set wd\n",
    "import matplotlib.pyplot as plt\n",
    "import matplotlib.animation as animation\n",
    "import matplotlib.image as mgimg\n",
    "from matplotlib.animation import FuncAnimation\n",
    "import numpy as np\n",
    "from IPython.display import HTML\n",
    "import os\n",
    "import math\n",
    "import pandas as pd\n",
    "\n",
    "# set work directory\n",
    "os.chdir('D:\\\\fault_sensor_data\\\\python_file')"
   ]
  },
  {
   "cell_type": "code",
   "execution_count": 4,
   "id": "5ef2a5a0",
   "metadata": {},
   "outputs": [
    {
     "name": "stdout",
     "output_type": "stream",
     "text": [
      "animation_stress_chain_stick//stress_chain_tau//0.png\n",
      "animation_stress_chain_stick//stress_chain_tau//0.png\n",
      "animation_stress_chain_stick//stress_chain_tau//1.png\n",
      "animation_stress_chain_stick//stress_chain_tau//2.png\n",
      "animation_stress_chain_stick//stress_chain_tau//3.png\n",
      "animation_stress_chain_stick//stress_chain_tau//4.png\n",
      "animation_stress_chain_stick//stress_chain_tau//5.png\n",
      "animation_stress_chain_stick//stress_chain_tau//6.png\n",
      "animation_stress_chain_stick//stress_chain_tau//7.png\n",
      "animation_stress_chain_stick//stress_chain_tau//8.png\n",
      "animation_stress_chain_stick//stress_chain_tau//9.png\n",
      "animation_stress_chain_stick//stress_chain_tau//10.png\n",
      "animation_stress_chain_stick//stress_chain_tau//11.png\n",
      "animation_stress_chain_stick//stress_chain_tau//12.png\n",
      "animation_stress_chain_stick//stress_chain_tau//13.png\n",
      "animation_stress_chain_stick//stress_chain_tau//14.png\n",
      "animation_stress_chain_stick//stress_chain_tau//15.png\n",
      "animation_stress_chain_stick//stress_chain_tau//16.png\n",
      "animation_stress_chain_stick//stress_chain_tau//17.png\n",
      "animation_stress_chain_stick//stress_chain_tau//18.png\n",
      "animation_stress_chain_stick//stress_chain_tau//19.png\n",
      "animation_stress_chain_stick//stress_chain_tau//20.png\n",
      "animation_stress_chain_stick//stress_chain_tau//21.png\n",
      "animation_stress_chain_stick//stress_chain_tau//22.png\n",
      "animation_stress_chain_stick//stress_chain_tau//23.png\n",
      "animation_stress_chain_stick//stress_chain_tau//24.png\n",
      "animation_stress_chain_stick//stress_chain_tau//25.png\n",
      "animation_stress_chain_stick//stress_chain_tau//26.png\n",
      "animation_stress_chain_stick//stress_chain_tau//27.png\n",
      "animation_stress_chain_stick//stress_chain_tau//28.png\n",
      "animation_stress_chain_stick//stress_chain_tau//29.png\n",
      "animation_stress_chain_stick//stress_chain_tau//30.png\n",
      "animation_stress_chain_stick//stress_chain_tau//31.png\n",
      "animation_stress_chain_stick//stress_chain_tau//32.png\n",
      "animation_stress_chain_stick//stress_chain_tau//33.png\n",
      "animation_stress_chain_stick//stress_chain_tau//34.png\n",
      "animation_stress_chain_stick//stress_chain_tau//35.png\n",
      "animation_stress_chain_stick//stress_chain_tau//36.png\n",
      "animation_stress_chain_stick//stress_chain_tau//37.png\n",
      "animation_stress_chain_stick//stress_chain_tau//38.png\n",
      "animation_stress_chain_stick//stress_chain_tau//39.png\n",
      "animation_stress_chain_stick//stress_chain_tau//40.png\n",
      "animation_stress_chain_stick//stress_chain_tau//41.png\n",
      "animation_stress_chain_stick//stress_chain_tau//42.png\n",
      "animation_stress_chain_stick//stress_chain_tau//43.png\n",
      "animation_stress_chain_stick//stress_chain_tau//44.png\n",
      "animation_stress_chain_stick//stress_chain_tau//45.png\n",
      "animation_stress_chain_stick//stress_chain_tau//46.png\n",
      "animation_stress_chain_stick//stress_chain_tau//47.png\n",
      "animation_stress_chain_stick//stress_chain_tau//48.png\n",
      "animation_stress_chain_stick//stress_chain_tau//49.png\n",
      "animation_stress_chain_stick//stress_chain_tau//50.png\n",
      "animation_stress_chain_stick//stress_chain_tau//51.png\n",
      "animation_stress_chain_stick//stress_chain_tau//52.png\n",
      "animation_stress_chain_stick//stress_chain_tau//53.png\n",
      "animation_stress_chain_stick//stress_chain_tau//54.png\n",
      "animation_stress_chain_stick//stress_chain_tau//55.png\n",
      "animation_stress_chain_stick//stress_chain_tau//56.png\n",
      "animation_stress_chain_stick//stress_chain_tau//57.png\n",
      "animation_stress_chain_stick//stress_chain_tau//58.png\n",
      "animation_stress_chain_stick//stress_chain_tau//59.png\n"
     ]
    },
    {
     "data": {
      "image/png": "[encoded data removed]",
      "text/plain": [
       "<Figure size 432x288 with 1 Axes>"
      ]
     },
     "metadata": {
      "needs_background": "light"
     },
     "output_type": "display_data"
    }
   ],
   "source": [
    "# animation stress_chain_tau\n",
    "## Read in graphs\n",
    "#  set parameters\n",
    "figure_number_ = 60\n",
    "\n",
    "\n",
    "# plt.subplots_adjust(top=1, bottom=0, left=0, right=1)\n",
    "\n",
    "\n",
    "def animate(i_):\n",
    "    plt.clf()\n",
    "    plt.axis('off')\n",
    "    im =  'animation_stress_chain_stick//stress_chain_tau//%d.png' % i_\n",
    "    print(im)\n",
    "    img = mgimg.imread(im)\n",
    "    ani_ = plt.imshow(img)\n",
    "    \n",
    "\n",
    "anim = FuncAnimation(plt.gcf(), animate, frames=figure_number_, \n",
    "                     interval= 500)\n",
    "anim.save(\"animation stress_chain_tau_stick.mp4\", dpi=600)"
   ]
  },
  {
   "cell_type": "code",
   "execution_count": null,
   "id": "1497f838",
   "metadata": {},
   "outputs": [],
   "source": []
  },
  {
   "cell_type": "code",
   "execution_count": null,
   "id": "4f456654",
   "metadata": {},
   "outputs": [],
   "source": []
  }
 ],
 "metadata": {
  "kernelspec": {
   "display_name": "Python 3 (ipykernel)",
   "language": "python",
   "name": "python3"
  },
  "language_info": {
   "codemirror_mode": {
    "name": "ipython",
    "version": 3
   },
   "file_extension": ".py",
   "mimetype": "text/x-python",
   "name": "python",
   "nbconvert_exporter": "python",
   "pygments_lexer": "ipython3",
   "version": "3.9.7"
  }
 },
 "nbformat": 4,
 "nbformat_minor": 5
}
